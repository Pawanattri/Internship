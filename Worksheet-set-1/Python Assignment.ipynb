{
 "cells": [
  {
   "cell_type": "code",
   "execution_count": 4,
   "id": "0e2a47ea",
   "metadata": {},
   "outputs": [
    {
     "name": "stdout",
     "output_type": "stream",
     "text": [
      "Enter the number4\n",
      "24\n"
     ]
    }
   ],
   "source": [
    "n=int(input('Enter the number'))\n",
    "def rec_fact (n):\n",
    "    if n == 1:\n",
    "        return n\n",
    "    elif n < 1:\n",
    "        return ('Factorial of negative number does not exist')\n",
    "    else:\n",
    "        return n*rec_fact (n-1)\n",
    "print (rec_fact (n))"
   ]
  },
  {
   "cell_type": "code",
   "execution_count": 7,
   "id": "79042dc5",
   "metadata": {},
   "outputs": [
    {
     "name": "stdout",
     "output_type": "stream",
     "text": [
      "Enter any number :1\n",
      "1 is a neither Prime NOR Composite number\n"
     ]
    }
   ],
   "source": [
    "num = int(input('Enter any number :'))\n",
    "if num > 1:\n",
    "    for i in range(2, num):\n",
    "        if (num % i) == 0:\n",
    "            print(num, \"is NOT a PRIME number, it is a COMPOSITE number\")\n",
    "            break\n",
    "    else:\n",
    "        print(num, \"is a PRIME number\")\n",
    "elif num == 0 or 1:\n",
    "    print(num, \"is a neither Prime NOR Composite number\")\n",
    "else:\n",
    "    print()"
   ]
  },
  {
   "cell_type": "code",
   "execution_count": 8,
   "id": "ba3b6290",
   "metadata": {},
   "outputs": [
    {
     "name": "stdout",
     "output_type": "stream",
     "text": [
      "Enter string:good\n",
      "The string isn't a palindrome\n"
     ]
    }
   ],
   "source": [
    "a=input(\"Enter string:\")\n",
    "if(a==a[::-1]):\n",
    "      print(\"The string is a palindrome\")\n",
    "else:\n",
    "      print(\"The string isn't a palindrome\")"
   ]
  },
  {
   "cell_type": "code",
   "execution_count": 10,
   "id": "db5f5626",
   "metadata": {},
   "outputs": [
    {
     "name": "stdout",
     "output_type": "stream",
     "text": [
      "Enter base: 2\n",
      "Enter height: 3\n",
      "Hypotenuse = 3.605551275463989\n"
     ]
    }
   ],
   "source": [
    "import math\n",
    "\n",
    "a = float(input(\"Enter base: \"))\n",
    "b = float(input(\"Enter height: \"))\n",
    "\n",
    "c = math.sqrt(a ** 2 + b ** 2)\n",
    "\n",
    "print(\"Hypotenuse =\", c)"
   ]
  },
  {
   "cell_type": "code",
   "execution_count": 12,
   "id": "5c328b2b",
   "metadata": {},
   "outputs": [
    {
     "name": "stdout",
     "output_type": "stream",
     "text": [
      "Enter string:Data \n",
      "Characters with their frequencies:\n",
      " {'D': 1}\n",
      "Characters with their frequencies:\n",
      " {'D': 1, 'a': 1}\n",
      "Characters with their frequencies:\n",
      " {'D': 1, 'a': 1, 't': 1}\n",
      "Characters with their frequencies:\n",
      " {'D': 1, 'a': 2, 't': 1, ' ': 1}\n"
     ]
    }
   ],
   "source": [
    "string =input(\"Enter string:\")\n",
    "freq_dict={}\n",
    "for i in string: \n",
    "    if i in freq_dict: \n",
    "        freq_dict[i]=freq_dict[i] + 1\n",
    "    else: \n",
    "        freq_dict[i] = 1\n",
    "        print (\"Characters with their frequencies:\\n\",freq_dict)"
   ]
  },
  {
   "cell_type": "code",
   "execution_count": null,
   "id": "7d2a834f",
   "metadata": {},
   "outputs": [],
   "source": []
  }
 ],
 "metadata": {
  "kernelspec": {
   "display_name": "Python 3 (ipykernel)",
   "language": "python",
   "name": "python3"
  },
  "language_info": {
   "codemirror_mode": {
    "name": "ipython",
    "version": 3
   },
   "file_extension": ".py",
   "mimetype": "text/x-python",
   "name": "python",
   "nbconvert_exporter": "python",
   "pygments_lexer": "ipython3",
   "version": "3.11.4"
  }
 },
 "nbformat": 4,
 "nbformat_minor": 5
}
